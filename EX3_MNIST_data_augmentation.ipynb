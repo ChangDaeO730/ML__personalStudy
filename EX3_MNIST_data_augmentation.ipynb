{
 "cells": [
  {
   "cell_type": "code",
   "execution_count": 1,
   "metadata": {},
   "outputs": [],
   "source": [
    "import os\n",
    "import sys\n",
    "import numpy as np\n",
    "import pandas as pd\n",
    "import matplotlib as mpl\n",
    "%matplotlib inline\n",
    "import matplotlib.pyplot as plt\n",
    "mpl.rc('axes', labelsize=14)\n",
    "mpl.rc('xtick', labelsize=12)\n",
    "mpl.rc('ytick', labelsize=12)\n",
    "plt.style.use('seaborn-darkgrid')\n",
    "\n",
    "\n",
    "from sklearn.datasets import fetch_openml"
   ]
  },
  {
   "cell_type": "markdown",
   "metadata": {},
   "source": [
    "# Data Augmentation _ Shifting"
   ]
  },
  {
   "cell_type": "code",
   "execution_count": 2,
   "metadata": {},
   "outputs": [],
   "source": [
    "mnist = fetch_openml('mnist_784', version = 1)\n",
    "\n",
    "X, y = mnist[\"data\"], mnist[\"target\"]\n",
    "y = y.astype(np.uint8)\n",
    "X_train, X_test, y_train, y_test = X[:60000], X[60000:], y[:60000], y[60000:]"
   ]
  },
  {
   "cell_type": "code",
   "execution_count": 50,
   "metadata": {},
   "outputs": [],
   "source": [
    "np.set_printoptions(threshold=sys.maxsize, linewidth = 200) "
   ]
  },
  {
   "cell_type": "code",
   "execution_count": 95,
   "metadata": {},
   "outputs": [],
   "source": [
    "def mnist_shifter(data, direction = [2,4,6,8], stride = 1):\n",
    "    '''Desciption\n",
    "    * data : 3-d array inputs (n, 28, 28)\n",
    "    * direction : list of shifting direction\n",
    "    * stride : shifting size\n",
    "    \n",
    "    outputs = (data | all of shifting results)\n",
    "    '''\n",
    "    # single input processing\n",
    "    if len(data.shape) == 2:\n",
    "        data = data.reshape(1, 28, 28)\n",
    "    # single direction processing\n",
    "    if isinstance(direction, int):\n",
    "        direction = [direction]\n",
    "    \n",
    "    d2, d8, d4, d6 = None, None, None, None\n",
    "    \n",
    "    for d in direction:\n",
    "        # row-wise shifting\n",
    "        if d == 2:\n",
    "            d2 = np.concatenate((np.zeros((data.shape[0],stride,data.shape[2])),data[:,:-stride,:]), axis = 1)\n",
    "        if d == 8:\n",
    "            d8 = np.concatenate((data[:,stride:,:], np.zeros((data.shape[0],stride,data.shape[2]))), axis = 1)\n",
    "        # column-wise shifting\n",
    "        if d == 4:\n",
    "            d4 = np.concatenate((data[:,:,stride:], np.zeros((data.shape[0],data.shape[1],stride))), axis = 2)\n",
    "        if d == 6:\n",
    "            d6 = np.concatenate((np.zeros((data.shape[0],data.shape[1],stride)), data[:,:,:-stride]), axis = 2)\n",
    "    \n",
    "    result_list = [data, d2, d8, d4, d6]\n",
    "    result_notNone = tuple(i for i in result_list if isinstance(i, np.ndarray))\n",
    "    \n",
    "    # observation-wise concat\n",
    "    return np.concatenate(result_notNone, axis = 0)"
   ]
  },
  {
   "cell_type": "code",
   "execution_count": 106,
   "metadata": {},
   "outputs": [
    {
     "data": {
      "image/png": "[encoded data removed]",
      "text/plain": [
       "<Figure size 432x288 with 2 Axes>"
      ]
     },
     "metadata": {},
     "output_type": "display_data"
    }
   ],
   "source": [
    "# example\n",
    "some_digit = X[0]\n",
    "some_digit_image = some_digit.reshape(28, 28)\n",
    "\n",
    "plt.subplot(121); plt.imshow(some_digit_image, cmap=mpl.cm.binary)\n",
    "plt.axis(\"off\")\n",
    "plt.subplot(122); plt.imshow(mnist_shifter(some_digit_image,direction = 8, stride = 5)[1], cmap=mpl.cm.binary)\n",
    "plt.axis(\"off\")\n",
    "\n",
    "plt.show()"
   ]
  },
  {
   "cell_type": "code",
   "execution_count": 100,
   "metadata": {},
   "outputs": [
    {
     "name": "stdout",
     "output_type": "stream",
     "text": [
      "(300000, 28, 28)\n",
      "(300000, 784)\n"
     ]
    }
   ],
   "source": [
    "X_train_shift_2d = mnist_shifter(X_train.reshape(X_train.shape[0], 28, 28))\n",
    "print(X_train_shift_2d.shape)\n",
    "\n",
    "X_train_shift = X_train_shift_2d.reshape(X_train_shift_2d.shape[0],784)\n",
    "print(X_train_shift.shape)"
   ]
  },
  {
   "cell_type": "code",
   "execution_count": 108,
   "metadata": {},
   "outputs": [],
   "source": [
    "# 늘어난 training feature수에 맞게 y를 extend 해준다.\n",
    "y_train_ext = np.concatenate((y_train, y_train, y_train, y_train, y_train), axis = 0)"
   ]
  },
  {
   "cell_type": "markdown",
   "metadata": {},
   "source": [
    "### Data Scaling"
   ]
  },
  {
   "cell_type": "code",
   "execution_count": null,
   "metadata": {},
   "outputs": [],
   "source": [
    "from sklearn.preprocessing import StandardScaler\n",
    "\n",
    "std_scaler = StandardScaler()\n",
    "\n",
    "X_train_shift_std = std_scaler.fit_transform(X_train_shift)\n",
    "X_test_std = std_scaler.transform(X_test)"
   ]
  },
  {
   "cell_type": "markdown",
   "metadata": {},
   "source": [
    "# Model\n",
    "<br/>\n",
    "\n",
    "### candidates\n",
    "---\n",
    "* SGD Classifier (logistic, SVM)\n",
    "* random forest\n",
    "* LGBM"
   ]
  },
  {
   "cell_type": "code",
   "execution_count": null,
   "metadata": {},
   "outputs": [],
   "source": [
    "from sklearn.linear_model import SGDClassifier\n",
    "from sklearn.ensemble import RandomForest\n",
    "from lightgbm import LGBMClassifier\n",
    "from sklear.metrics import accuracy_score"
   ]
  },
  {
   "cell_type": "code",
   "execution_count": null,
   "metadata": {},
   "outputs": [],
   "source": [
    "sgd_log = SGDClassifier(loss = \"log\", random_state = 42)\n",
    "sgd_svm = SGDClassifier(loss = \"hinge\", random_state = 42)\n",
    "rf = RandomForest(random_state = 42)\n",
    "lgb = LGBMClassifier(random_state = 42)\n",
    "\n",
    "model_list = [sgd_log, sgd_svm, rf, lgb]\n",
    "score_list = []\n",
    "\n",
    "for m in model_list:\n",
    "    m.fit(X_train_shift_std, y_train_ext)\n",
    "    pred = m.predict(X_test_std)\n",
    "    score_list.append( accuracy_score(y_test,pred) )\n",
    "\n",
    "print(model_list)\n",
    "print(score_list)"
   ]
  },
  {
   "cell_type": "code",
   "execution_count": null,
   "metadata": {},
   "outputs": [],
   "source": []
  },
  {
   "cell_type": "code",
   "execution_count": null,
   "metadata": {},
   "outputs": [],
   "source": [
    "sgd_log.fit(X_train_shift_std, y_train_ext)\n",
    "sgd_svm.fit(X_train_shift_std, y_train_ext)\n",
    "rf.fit(X_train_shift_std, y_train_ext)\n",
    "lgb.fit(X_train_shift_std, y_train_ext)"
   ]
  }
 ],
 "metadata": {
  "kernelspec": {
   "display_name": "Python 3",
   "language": "python",
   "name": "python3"
  },
  "language_info": {
   "codemirror_mode": {
    "name": "ipython",
    "version": 3
   },
   "file_extension": ".py",
   "mimetype": "text/x-python",
   "name": "python",
   "nbconvert_exporter": "python",
   "pygments_lexer": "ipython3",
   "version": "3.7.6"
  }
 },
 "nbformat": 4,
 "nbformat_minor": 4
}
