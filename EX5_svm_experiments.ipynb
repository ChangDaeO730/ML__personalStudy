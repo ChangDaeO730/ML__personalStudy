{
  "nbformat": 4,
  "nbformat_minor": 0,
  "metadata": {
    "colab": {
      "name": "EX5_svm_experiments",
      "provenance": [],
      "collapsed_sections": [],
      "machine_shape": "hm",
      "authorship_tag": "ABX9TyNOJ3t17gK9ck6cYJbsXFBs",
      "include_colab_link": true
    },
    "kernelspec": {
      "name": "python3",
      "display_name": "Python 3"
    },
    "language_info": {
      "name": "python"
    },
    "accelerator": "GPU"
  },
  "cells": [
    {
      "cell_type": "markdown",
      "metadata": {
        "id": "view-in-github",
        "colab_type": "text"
      },
      "source": [
        "<a href=\"https://colab.research.google.com/github/changdaeoh/HandsOn_ML/blob/main/EX5_svm_experiments.ipynb\" target=\"_parent\"><img src=\"https://colab.research.google.com/assets/colab-badge.svg\" alt=\"Open In Colab\"/></a>"
      ]
    },
    {
      "cell_type": "markdown",
      "metadata": {
        "id": "-mczgBBxl-s1"
      },
      "source": [
        "# SVM classifier for MNIST"
      ]
    },
    {
      "cell_type": "markdown",
      "metadata": {
        "id": "6b5IUSeirCZ2"
      },
      "source": [
        "### data load"
      ]
    },
    {
      "cell_type": "code",
      "metadata": {
        "id": "bME9DBpip4AM"
      },
      "source": [
        "from sklearn.datasets import fetch_openml\n",
        "mnist = fetch_openml('mnist_784', version=1, cache=True, as_frame=False)"
      ],
      "execution_count": 1,
      "outputs": []
    },
    {
      "cell_type": "code",
      "metadata": {
        "id": "-C63ALFarJxw"
      },
      "source": [
        "import numpy as np\n",
        "\n",
        "X = mnist[\"data\"]\n",
        "y = mnist[\"target\"].astype(np.uint8)\n",
        "\n",
        "X_train, X_test = X[:60000], X[60000:]\n",
        "y_train, y_test = y[:60000], y[60000:]\n",
        "\n",
        "\n",
        "from sklearn.preprocessing import StandardScaler, MinMaxScaler\n",
        "scaler_std = StandardScaler() \n",
        "scaler_mm = MinMaxScaler() \n",
        "\n",
        "X_train_std = scaler_std.fit_transform(X_train.astype(np.float32))\n",
        "X_train_mm = scaler_mm.fit_transform(X_train.astype(np.float32))\n",
        "X_test_std = scaler_std.transform(X_test.astype(np.float32))\n",
        "X_test_mm = scaler_mm.transform(X_test.astype(np.float32))"
      ],
      "execution_count": 2,
      "outputs": []
    },
    {
      "cell_type": "code",
      "metadata": {
        "colab": {
          "base_uri": "https://localhost:8080/"
        },
        "id": "pR6kzfygrZqC",
        "outputId": "3d1b5a95-801f-4549-bb84-1902cc241093"
      },
      "source": [
        "print(X_train.shape, X_test.shape)\n",
        "print(y_train.shape, y_test.shape)"
      ],
      "execution_count": 12,
      "outputs": [
        {
          "output_type": "stream",
          "text": [
            "(60000, 784) (10000, 784)\n",
            "(60000,) (10000,)\n"
          ],
          "name": "stdout"
        }
      ]
    },
    {
      "cell_type": "code",
      "metadata": {
        "colab": {
          "base_uri": "https://localhost:8080/"
        },
        "id": "m3eWBN583ETA",
        "outputId": "71da3399-232a-4649-ed1a-449f5878e3d1"
      },
      "source": [
        "# compare two scalers\n",
        "\n",
        "from sklearn.svm import LinearSVC\n",
        "\n",
        "can1 = LinearSVC()\n",
        "can1.fit(X_train_std[:5000], y_train[:5000])\n",
        "print(can1.score(X_test_std[:2500], y_test[:2500]))\n",
        "\n",
        "can2 = LinearSVC()\n",
        "can2.fit(X_train_mm[:5000], y_train[:5000])\n",
        "print(can2.score(X_test_mm[:2500], y_test[:2500]))"
      ],
      "execution_count": 4,
      "outputs": [
        {
          "output_type": "stream",
          "text": [
            "/usr/local/lib/python3.7/dist-packages/sklearn/svm/_base.py:947: ConvergenceWarning: Liblinear failed to converge, increase the number of iterations.\n",
            "  \"the number of iterations.\", ConvergenceWarning)\n"
          ],
          "name": "stderr"
        },
        {
          "output_type": "stream",
          "text": [
            "0.7728\n",
            "0.8316\n"
          ],
          "name": "stdout"
        },
        {
          "output_type": "stream",
          "text": [
            "/usr/local/lib/python3.7/dist-packages/sklearn/svm/_base.py:947: ConvergenceWarning: Liblinear failed to converge, increase the number of iterations.\n",
            "  \"the number of iterations.\", ConvergenceWarning)\n"
          ],
          "name": "stderr"
        }
      ]
    },
    {
      "cell_type": "markdown",
      "metadata": {
        "id": "UEwPfpE9zsp8"
      },
      "source": [
        "### candidate 1. Linear SVC"
      ]
    },
    {
      "cell_type": "code",
      "metadata": {
        "id": "WKqoZOQfu-Fj"
      },
      "source": [
        "from sklearn.linear_model import SGDClassifier\n",
        "from sklearn.svm import SVC\n",
        "from sklearn.model_selection import GridSearchCV, RandomizedSearchCV\n",
        "\n",
        "# model init\n",
        "lin_svc = LinearSVC(max_iter = 10000, multi_class = \"ovr\",\n",
        "                    random_state = 0)\n",
        "\n",
        "# hyper parameter grid & grid searcher define\n",
        "linear_svc_grid = {'C' : [10**i for i in range(-3, 4)],\n",
        "                   'loss' : ['hinge', 'squared_hinge']}\n",
        "rs = RandomizedSearchCV(lin_svc, linear_svc_grid, n_iter = 20, scoring = \"accuracy\",\n",
        "                        random_state = 0, cv = 3, n_jobs = -1)"
      ],
      "execution_count": 5,
      "outputs": []
    },
    {
      "cell_type": "code",
      "metadata": {
        "colab": {
          "base_uri": "https://localhost:8080/"
        },
        "id": "RtBcA23PrjJy",
        "outputId": "f92c6536-94aa-4ec8-e908-a4ef7e6976de"
      },
      "source": [
        "# 파라미터 튜닝시간을 줄이기 위해 극소량의 데이터만 사용하여 서치\n",
        "rs.fit(X_train_mm[:2000], y_train[:2000])"
      ],
      "execution_count": 7,
      "outputs": [
        {
          "output_type": "stream",
          "text": [
            "/usr/local/lib/python3.7/dist-packages/sklearn/model_selection/_search.py:281: UserWarning: The total space of parameters 14 is smaller than n_iter=20. Running 14 iterations. For exhaustive searches, use GridSearchCV.\n",
            "  % (grid_size, self.n_iter, grid_size), UserWarning)\n"
          ],
          "name": "stderr"
        },
        {
          "output_type": "execute_result",
          "data": {
            "text/plain": [
              "RandomizedSearchCV(cv=3, error_score=nan,\n",
              "                   estimator=LinearSVC(C=1.0, class_weight=None, dual=True,\n",
              "                                       fit_intercept=True, intercept_scaling=1,\n",
              "                                       loss='squared_hinge', max_iter=10000,\n",
              "                                       multi_class='ovr', penalty='l2',\n",
              "                                       random_state=0, tol=0.0001, verbose=0),\n",
              "                   iid='deprecated', n_iter=20, n_jobs=-1,\n",
              "                   param_distributions={'C': [0.001, 0.01, 0.1, 1, 10, 100,\n",
              "                                              1000],\n",
              "                                        'loss': ['hinge', 'squared_hinge']},\n",
              "                   pre_dispatch='2*n_jobs', random_state=0, refit=True,\n",
              "                   return_train_score=False, scoring='accuracy', verbose=0)"
            ]
          },
          "metadata": {
            "tags": []
          },
          "execution_count": 7
        }
      ]
    },
    {
      "cell_type": "code",
      "metadata": {
        "colab": {
          "base_uri": "https://localhost:8080/"
        },
        "id": "2JPL7LYCw-ga",
        "outputId": "244ea975-d7f9-4de9-b1c1-fc3ee049294d"
      },
      "source": [
        "print('best model             :',rs.best_estimator_,'\\n')\n",
        "print('best test subset score :',rs.best_score_)"
      ],
      "execution_count": 22,
      "outputs": [
        {
          "output_type": "stream",
          "text": [
            "best model             : LinearSVC(C=0.01, class_weight=None, dual=True, fit_intercept=True,\n",
            "          intercept_scaling=1, loss='squared_hinge', max_iter=10000,\n",
            "          multi_class='ovr', penalty='l2', random_state=42, tol=0.0001,\n",
            "          verbose=0) \n",
            "\n",
            "best test subset score : 0.8695096895996445\n"
          ],
          "name": "stdout"
        }
      ]
    },
    {
      "cell_type": "code",
      "metadata": {
        "colab": {
          "base_uri": "https://localhost:8080/"
        },
        "id": "WoPEr_WNzA7p",
        "outputId": "2223043f-eace-4295-a5da-0ad8fdd090cf"
      },
      "source": [
        "# fit best linear svc model\n",
        "rs.best_estimator_.fit(X_train_mm, y_train)\n",
        "\n",
        "rs.best_estimator_.score(X_test_mm, y_test)"
      ],
      "execution_count": 8,
      "outputs": [
        {
          "output_type": "execute_result",
          "data": {
            "text/plain": [
              "0.9172"
            ]
          },
          "metadata": {
            "tags": []
          },
          "execution_count": 8
        }
      ]
    },
    {
      "cell_type": "markdown",
      "metadata": {
        "id": "Dh3ANwgVzxaP"
      },
      "source": [
        "### candidate 2. Kernel SVM"
      ]
    },
    {
      "cell_type": "code",
      "metadata": {
        "id": "-HrODjGl1f_7"
      },
      "source": [
        "# model init\n",
        "ksvm = SVC(max_iter = 10000, decision_function_shape = \"ovr\",\n",
        "           random_state = 0)\n",
        "\n",
        "# hyper parameter grid & grid searcher define\n",
        "ksvm_grid = {'C' : list(np.logspace(-3, 3, 30)),\n",
        "             'gamma' : list(np.logspace(-3, 3, 30))}\n",
        "\n",
        "ksvm_rs = RandomizedSearchCV(ksvm, ksvm_grid, n_iter = 30, scoring = \"accuracy\",\n",
        "                             random_state = 0, cv = 3, n_jobs = -1)"
      ],
      "execution_count": 22,
      "outputs": []
    },
    {
      "cell_type": "code",
      "metadata": {
        "colab": {
          "base_uri": "https://localhost:8080/"
        },
        "id": "VNaE0JC34UvP",
        "outputId": "2a389532-d2df-4f61-b1e1-35be3edae370"
      },
      "source": [
        "ksvm_rs.fit(X_train_mm[:2500], y_train[:2500])"
      ],
      "execution_count": 23,
      "outputs": [
        {
          "output_type": "execute_result",
          "data": {
            "text/plain": [
              "RandomizedSearchCV(cv=3, error_score=nan,\n",
              "                   estimator=SVC(C=1.0, break_ties=False, cache_size=200,\n",
              "                                 class_weight=None, coef0=0.0,\n",
              "                                 decision_function_shape='ovr', degree=3,\n",
              "                                 gamma='scale', kernel='rbf', max_iter=10000,\n",
              "                                 probability=False, random_state=0,\n",
              "                                 shrinking=True, tol=0.001, verbose=False),\n",
              "                   iid='deprecated', n_iter=30, n_jobs=-1,\n",
              "                   param_distributions={'C': [0.001, 0.00161...\n",
              "                                                  2.0433597178569416,\n",
              "                                                  3.2903445623126677,\n",
              "                                                  5.298316906283707,\n",
              "                                                  8.531678524172806,\n",
              "                                                  13.738237958832638,\n",
              "                                                  22.122162910704503,\n",
              "                                                  35.622478902624444,\n",
              "                                                  57.361525104486816,\n",
              "                                                  92.36708571873865,\n",
              "                                                  148.73521072935117,\n",
              "                                                  239.5026619987486,\n",
              "                                                  385.6620421163472,\n",
              "                                                  621.0169418915616, 1000.0]},\n",
              "                   pre_dispatch='2*n_jobs', random_state=0, refit=True,\n",
              "                   return_train_score=False, scoring='accuracy', verbose=0)"
            ]
          },
          "metadata": {
            "tags": []
          },
          "execution_count": 23
        }
      ]
    },
    {
      "cell_type": "code",
      "metadata": {
        "colab": {
          "base_uri": "https://localhost:8080/"
        },
        "id": "8wkErDB-6dMP",
        "outputId": "f90d6f6b-a754-40c3-b573-4f47f4f3d204"
      },
      "source": [
        "print('best model             :',ksvm_rs.best_estimator_,'\\n')\n",
        "print('best test subset score :',ksvm_rs.best_score_)"
      ],
      "execution_count": 24,
      "outputs": [
        {
          "output_type": "stream",
          "text": [
            "best model             : SVC(C=1.2689610031679222, break_ties=False, cache_size=200, class_weight=None,\n",
            "    coef0=0.0, decision_function_shape='ovr', degree=3,\n",
            "    gamma=0.04520353656360243, kernel='rbf', max_iter=10000, probability=False,\n",
            "    random_state=0, shrinking=True, tol=0.001, verbose=False) \n",
            "\n",
            "best test subset score : 0.9240002955618699\n"
          ],
          "name": "stdout"
        }
      ]
    },
    {
      "cell_type": "code",
      "metadata": {
        "colab": {
          "base_uri": "https://localhost:8080/"
        },
        "id": "IrvVrhU_4ofU",
        "outputId": "16d532f7-320d-4be6-8eab-7444f472d7f0"
      },
      "source": [
        "ksvm_rs.best_estimator_.fit(X_train_mm, y_train)\n",
        "\n",
        "ksvm_rs.best_estimator_.score(X_test_mm, y_test)"
      ],
      "execution_count": 25,
      "outputs": [
        {
          "output_type": "execute_result",
          "data": {
            "text/plain": [
              "0.9836"
            ]
          },
          "metadata": {
            "tags": []
          },
          "execution_count": 25
        }
      ]
    },
    {
      "cell_type": "code",
      "metadata": {
        "id": "IjULR74nBy1P"
      },
      "source": [
        "y_pred = ksvm_rs.best_estimator_.predict(X_test_mm)"
      ],
      "execution_count": null,
      "outputs": []
    },
    {
      "cell_type": "code",
      "metadata": {
        "colab": {
          "base_uri": "https://localhost:8080/"
        },
        "id": "Oswcdc_q7AY9",
        "outputId": "ac288030-a17a-4675-a54d-4c67d07db6bd"
      },
      "source": [
        "from sklearn.metrics import classification_report\n",
        "\n",
        "print(classification_report(y_test, y_pred, labels = [i for i in range(10)]))"
      ],
      "execution_count": 29,
      "outputs": [
        {
          "output_type": "stream",
          "text": [
            "              precision    recall  f1-score   support\n",
            "\n",
            "           0       0.98      0.99      0.99       980\n",
            "           1       0.99      0.99      0.99      1135\n",
            "           2       0.98      0.98      0.98      1032\n",
            "           3       0.98      0.99      0.98      1010\n",
            "           4       0.99      0.98      0.98       982\n",
            "           5       0.99      0.98      0.99       892\n",
            "           6       0.99      0.99      0.99       958\n",
            "           7       0.98      0.98      0.98      1028\n",
            "           8       0.98      0.99      0.98       974\n",
            "           9       0.98      0.96      0.97      1009\n",
            "\n",
            "    accuracy                           0.98     10000\n",
            "   macro avg       0.98      0.98      0.98     10000\n",
            "weighted avg       0.98      0.98      0.98     10000\n",
            "\n"
          ],
          "name": "stdout"
        }
      ]
    },
    {
      "cell_type": "markdown",
      "metadata": {
        "id": "gVx5VXDi6qkR"
      },
      "source": [
        "### candidate 3. CNN"
      ]
    },
    {
      "cell_type": "code",
      "metadata": {
        "colab": {
          "base_uri": "https://localhost:8080/"
        },
        "id": "VZTVmsaj70Na",
        "outputId": "4e2ac10f-ea8f-4028-9bc5-ed3d012ae45c"
      },
      "source": [
        "import tensorflow as tf\n",
        "from tensorflow import keras\n",
        "from keras.models import Sequential\n",
        "from tensorflow.keras.layers import Conv2D, MaxPooling2D, Dense, Dropout, Flatten\n",
        "\n",
        "(x_train, y_train), (x_test, y_test) = keras.datasets.mnist.load_data()\n",
        "\n",
        "# shape setting\n",
        "img_rows = 28\n",
        "img_cols = 28\n",
        "\n",
        "input_shape = (img_rows, img_cols, 1)\n",
        "x_train = x_train.reshape(x_train.shape[0], img_rows, img_cols, 1)\n",
        "x_test = x_test.reshape(x_test.shape[0], img_rows, img_cols, 1)\n",
        "\n",
        "# min max scaling\n",
        "x_train = x_train.astype('float32') / 255.\n",
        "x_test = x_test.astype('float32') / 255.\n",
        "\n",
        "# hyperparameter set\n",
        "batch_size = 128\n",
        "num_classes = 10\n",
        "epochs = 30\n",
        "\n",
        "# y_train = keras.utils.to_categorical(y_train, num_classes)\n",
        "# y_test = keras.utils.to_categorical(y_test, num_classes)"
      ],
      "execution_count": 30,
      "outputs": [
        {
          "output_type": "stream",
          "text": [
            "Downloading data from https://storage.googleapis.com/tensorflow/tf-keras-datasets/mnist.npz\n",
            "11493376/11490434 [==============================] - 0s 0us/step\n"
          ],
          "name": "stdout"
        }
      ]
    },
    {
      "cell_type": "code",
      "metadata": {
        "id": "tQxV9WIu9Oqp"
      },
      "source": [
        "model = Sequential()\n",
        "model.add(Conv2D(32, 3, padding='same', activation='relu', input_shape=input_shape))\n",
        "model.add(MaxPooling2D((2, 2)))\n",
        "model.add(Conv2D(64, 3, padding='same', activation='relu'))\n",
        "model.add(MaxPooling2D((2, 2)))\n",
        "model.add(Conv2D(128, 3, padding='same', activation='relu'))\n",
        "model.add(MaxPooling2D((2, 2))) \n",
        "model.add(Flatten())\n",
        "model.add(Dropout(0.2))\n",
        "model.add(Dense(500, activation=\"relu\"))\n",
        "model.add(Dropout(0.2))\n",
        "model.add(Dense(250, activation=\"relu\"))\n",
        "model.add(Dense(num_classes, activation=\"softmax\"))\n",
        "\n",
        "model.compile(loss='sparse_categorical_crossentropy', optimizer='adam', metrics=['accuracy'])\n",
        "\n",
        "# from tensorflow.keras.utils import plot_model\n",
        "# plot_model(model, './cnn.png', show_shapes=True)"
      ],
      "execution_count": 50,
      "outputs": []
    },
    {
      "cell_type": "code",
      "metadata": {
        "colab": {
          "base_uri": "https://localhost:8080/"
        },
        "id": "7bJYZfvm9rpQ",
        "outputId": "521f28f7-baa5-4ec5-d31c-ed6a8b9f7462"
      },
      "source": [
        "hist = model.fit(x_train, y_train,\n",
        "                 batch_size=batch_size,\n",
        "                 epochs = epochs,\n",
        "                 validation_data=(x_test, y_test))"
      ],
      "execution_count": 41,
      "outputs": [
        {
          "output_type": "stream",
          "text": [
            "Epoch 1/30\n",
            "469/469 [==============================] - 3s 5ms/step - loss: 0.4845 - accuracy: 0.8364 - val_loss: 0.0474 - val_accuracy: 0.9844\n",
            "Epoch 2/30\n",
            "469/469 [==============================] - 2s 5ms/step - loss: 0.0557 - accuracy: 0.9821 - val_loss: 0.0365 - val_accuracy: 0.9885\n",
            "Epoch 3/30\n",
            "469/469 [==============================] - 2s 5ms/step - loss: 0.0366 - accuracy: 0.9884 - val_loss: 0.0386 - val_accuracy: 0.9875\n",
            "Epoch 4/30\n",
            "469/469 [==============================] - 2s 5ms/step - loss: 0.0293 - accuracy: 0.9910 - val_loss: 0.0311 - val_accuracy: 0.9898\n",
            "Epoch 5/30\n",
            "469/469 [==============================] - 2s 5ms/step - loss: 0.0235 - accuracy: 0.9925 - val_loss: 0.0276 - val_accuracy: 0.9908\n",
            "Epoch 6/30\n",
            "469/469 [==============================] - 2s 5ms/step - loss: 0.0203 - accuracy: 0.9933 - val_loss: 0.0207 - val_accuracy: 0.9936\n",
            "Epoch 7/30\n",
            "469/469 [==============================] - 2s 5ms/step - loss: 0.0193 - accuracy: 0.9939 - val_loss: 0.0240 - val_accuracy: 0.9925\n",
            "Epoch 8/30\n",
            "469/469 [==============================] - 2s 5ms/step - loss: 0.0177 - accuracy: 0.9944 - val_loss: 0.0237 - val_accuracy: 0.9927\n",
            "Epoch 9/30\n",
            "469/469 [==============================] - 2s 5ms/step - loss: 0.0133 - accuracy: 0.9956 - val_loss: 0.0267 - val_accuracy: 0.9926\n",
            "Epoch 10/30\n",
            "469/469 [==============================] - 2s 5ms/step - loss: 0.0143 - accuracy: 0.9956 - val_loss: 0.0232 - val_accuracy: 0.9938\n",
            "Epoch 11/30\n",
            "469/469 [==============================] - 2s 5ms/step - loss: 0.0110 - accuracy: 0.9966 - val_loss: 0.0274 - val_accuracy: 0.9909\n",
            "Epoch 12/30\n",
            "469/469 [==============================] - 2s 5ms/step - loss: 0.0117 - accuracy: 0.9962 - val_loss: 0.0271 - val_accuracy: 0.9918\n",
            "Epoch 13/30\n",
            "469/469 [==============================] - 2s 5ms/step - loss: 0.0096 - accuracy: 0.9970 - val_loss: 0.0251 - val_accuracy: 0.9925\n",
            "Epoch 14/30\n",
            "469/469 [==============================] - 2s 5ms/step - loss: 0.0101 - accuracy: 0.9966 - val_loss: 0.0280 - val_accuracy: 0.9935\n",
            "Epoch 15/30\n",
            "469/469 [==============================] - 2s 5ms/step - loss: 0.0090 - accuracy: 0.9972 - val_loss: 0.0218 - val_accuracy: 0.9939\n",
            "Epoch 16/30\n",
            "469/469 [==============================] - 2s 5ms/step - loss: 0.0073 - accuracy: 0.9973 - val_loss: 0.0316 - val_accuracy: 0.9925\n",
            "Epoch 17/30\n",
            "469/469 [==============================] - 2s 5ms/step - loss: 0.0088 - accuracy: 0.9976 - val_loss: 0.0279 - val_accuracy: 0.9934\n",
            "Epoch 18/30\n",
            "469/469 [==============================] - 2s 5ms/step - loss: 0.0067 - accuracy: 0.9980 - val_loss: 0.0245 - val_accuracy: 0.9943\n",
            "Epoch 19/30\n",
            "469/469 [==============================] - 2s 5ms/step - loss: 0.0072 - accuracy: 0.9977 - val_loss: 0.0326 - val_accuracy: 0.9920\n",
            "Epoch 20/30\n",
            "469/469 [==============================] - 2s 5ms/step - loss: 0.0103 - accuracy: 0.9968 - val_loss: 0.0226 - val_accuracy: 0.9942\n",
            "Epoch 21/30\n",
            "469/469 [==============================] - 2s 5ms/step - loss: 0.0060 - accuracy: 0.9982 - val_loss: 0.0360 - val_accuracy: 0.9919\n",
            "Epoch 22/30\n",
            "469/469 [==============================] - 2s 5ms/step - loss: 0.0080 - accuracy: 0.9976 - val_loss: 0.0341 - val_accuracy: 0.9918\n",
            "Epoch 23/30\n",
            "469/469 [==============================] - 2s 5ms/step - loss: 0.0064 - accuracy: 0.9982 - val_loss: 0.0271 - val_accuracy: 0.9934\n",
            "Epoch 24/30\n",
            "469/469 [==============================] - 2s 5ms/step - loss: 0.0033 - accuracy: 0.9990 - val_loss: 0.0339 - val_accuracy: 0.9932\n",
            "Epoch 25/30\n",
            "469/469 [==============================] - 2s 5ms/step - loss: 0.0059 - accuracy: 0.9983 - val_loss: 0.0282 - val_accuracy: 0.9937\n",
            "Epoch 26/30\n",
            "469/469 [==============================] - 2s 5ms/step - loss: 0.0054 - accuracy: 0.9983 - val_loss: 0.0514 - val_accuracy: 0.9902\n",
            "Epoch 27/30\n",
            "469/469 [==============================] - 2s 5ms/step - loss: 0.0065 - accuracy: 0.9981 - val_loss: 0.0307 - val_accuracy: 0.9937\n",
            "Epoch 28/30\n",
            "469/469 [==============================] - 2s 5ms/step - loss: 0.0044 - accuracy: 0.9987 - val_loss: 0.0237 - val_accuracy: 0.9943\n",
            "Epoch 29/30\n",
            "469/469 [==============================] - 2s 5ms/step - loss: 0.0039 - accuracy: 0.9986 - val_loss: 0.0312 - val_accuracy: 0.9937\n",
            "Epoch 30/30\n",
            "469/469 [==============================] - 2s 5ms/step - loss: 0.0037 - accuracy: 0.9989 - val_loss: 0.0323 - val_accuracy: 0.9926\n"
          ],
          "name": "stdout"
        }
      ]
    },
    {
      "cell_type": "markdown",
      "metadata": {
        "id": "TyCs7WGdEdpe"
      },
      "source": [
        "# SVM Regression house price prediction"
      ]
    },
    {
      "cell_type": "markdown",
      "metadata": {
        "id": "TONM5PgwLzqR"
      },
      "source": [
        "### DATA LOAD"
      ]
    },
    {
      "cell_type": "code",
      "metadata": {
        "colab": {
          "base_uri": "https://localhost:8080/"
        },
        "id": "0BsH1sJ0EjAv",
        "outputId": "7668f48b-260d-41b0-b82b-5a07f815dd14"
      },
      "source": [
        "from sklearn.datasets import fetch_california_housing\n",
        "from sklearn.model_selection import train_test_split\n",
        "\n",
        "housing = fetch_california_housing()\n",
        "X = housing[\"data\"]\n",
        "y = housing[\"target\"]\n",
        "\n",
        "X_train, X_test, y_train, y_test = train_test_split(X, y, test_size=0.2, random_state=42)\n",
        "\n",
        "\n",
        "from sklearn.preprocessing import StandardScaler, RobustScaler\n",
        "\n",
        "scaler1 = StandardScaler()\n",
        "X_train_std = scaler1.fit_transform(X_train)\n",
        "X_test_std = scaler1.transform(X_test)\n",
        "\n",
        "scaler2 = RobustScaler()\n",
        "X_train_rb = scaler2.fit_transform(X_train)\n",
        "X_test_rb = scaler2.transform(X_test)"
      ],
      "execution_count": 42,
      "outputs": [
        {
          "output_type": "stream",
          "text": [
            "Downloading Cal. housing from https://ndownloader.figshare.com/files/5976036 to /root/scikit_learn_data\n"
          ],
          "name": "stderr"
        }
      ]
    },
    {
      "cell_type": "code",
      "metadata": {
        "colab": {
          "base_uri": "https://localhost:8080/"
        },
        "id": "F2Ib9aB_F1Aw",
        "outputId": "c7ccb6e6-01bc-46b1-d598-fc16ce176711"
      },
      "source": [
        "print(X_train.shape, X_test.shape)\n",
        "print(y_train.shape, y_test.shape)"
      ],
      "execution_count": 43,
      "outputs": [
        {
          "output_type": "stream",
          "text": [
            "(16512, 8) (4128, 8)\n",
            "(16512,) (4128,)\n"
          ],
          "name": "stdout"
        }
      ]
    },
    {
      "cell_type": "code",
      "metadata": {
        "colab": {
          "base_uri": "https://localhost:8080/"
        },
        "id": "LrRkLZeaFvcj",
        "outputId": "8c555fc2-ed51-4886-d9ff-796926c0e096"
      },
      "source": [
        "# 전처리방법 성능비교 - 차이없음\n",
        "from sklearn.svm import LinearSVR\n",
        "\n",
        "can1 = LinearSVR(max_iter=10000)\n",
        "can2 = LinearSVR(max_iter=10000)\n",
        "\n",
        "pred1 = can1.fit(X_train_std[:10000], y_train[:10000]).predict(X_test_std)\n",
        "pred2 = can2.fit(X_train_rb[:10000], y_train[:10000]).predict(X_test_rb)\n",
        "\n",
        "from sklearn.metrics import mean_squared_error\n",
        "print(mean_squared_error(pred1,y_test))\n",
        "print(mean_squared_error(pred2,y_test))"
      ],
      "execution_count": 49,
      "outputs": [
        {
          "output_type": "stream",
          "text": [
            "0.5794043512385878\n",
            "0.5798144304017645\n"
          ],
          "name": "stdout"
        },
        {
          "output_type": "stream",
          "text": [
            "/usr/local/lib/python3.7/dist-packages/sklearn/svm/_base.py:947: ConvergenceWarning: Liblinear failed to converge, increase the number of iterations.\n",
            "  \"the number of iterations.\", ConvergenceWarning)\n"
          ],
          "name": "stderr"
        }
      ]
    },
    {
      "cell_type": "code",
      "metadata": {
        "colab": {
          "base_uri": "https://localhost:8080/",
          "height": 283
        },
        "id": "YmFjCR-OIpiM",
        "outputId": "98a384de-b8e4-4655-f392-2c40758ff273"
      },
      "source": [
        "import pandas as pd\n",
        "pd.Series(y_train).hist()"
      ],
      "execution_count": 55,
      "outputs": [
        {
          "output_type": "execute_result",
          "data": {
            "text/plain": [
              "<matplotlib.axes._subplots.AxesSubplot at 0x7f66c5f23310>"
            ]
          },
          "metadata": {
            "tags": []
          },
          "execution_count": 55
        },
        {
          "output_type": "display_data",
          "data": {
            "image/png": "[encoded data removed]",
            "text/plain": [
              "<Figure size 432x288 with 1 Axes>"
            ]
          },
          "metadata": {
            "tags": [],
            "needs_background": "light"
          }
        }
      ]
    },
    {
      "cell_type": "markdown",
      "metadata": {
        "id": "b5zC7oXeIFgy"
      },
      "source": [
        "### candidate 1. Linear SVR"
      ]
    },
    {
      "cell_type": "code",
      "metadata": {
        "colab": {
          "base_uri": "https://localhost:8080/"
        },
        "id": "QgYiAwZSHdSD",
        "outputId": "42fecea7-965f-44bc-e48e-802a5d663573"
      },
      "source": [
        "lin_svr = LinearSVR(max_iter=10000, random_state = 0)\n",
        "\n",
        "# hyper parameter grid & grid searcher define\n",
        "linear_svr_grid = {'C' : list(np.logspace(-3, 3, 30)),\n",
        "                   'epsilon' : [0.005, 0.001, 0.0005, 0.0001, 0.0]}\n",
        "rs = RandomizedSearchCV(lin_svr, linear_svr_grid, scoring = \"neg_root_mean_squared_error\",\n",
        "                        n_iter = 30, random_state = 0, cv = 3, n_jobs = -1)\n",
        "\n",
        "rs.fit(X_train_rb[:10000], y_train[:10000])\n",
        "print('best model             :',rs.best_estimator_,'\\n')\n",
        "print('best test subset score :',rs.best_score_)"
      ],
      "execution_count": 56,
      "outputs": [
        {
          "output_type": "stream",
          "text": [
            "best model             : LinearSVR(C=0.0016102620275609393, dual=True, epsilon=0.0005,\n",
            "          fit_intercept=True, intercept_scaling=1.0, loss='epsilon_insensitive',\n",
            "          max_iter=10000, random_state=0, tol=0.0001, verbose=0) \n",
            "\n",
            "best test subset score : -1.4966171997043716\n"
          ],
          "name": "stdout"
        }
      ]
    },
    {
      "cell_type": "code",
      "metadata": {
        "colab": {
          "base_uri": "https://localhost:8080/"
        },
        "id": "bchkmjehJ6Bc",
        "outputId": "dced4014-6c61-4c65-bdcd-a651e24ba232"
      },
      "source": [
        "rs.best_estimator_.fit(X_train_rb, y_train)\n",
        "print(rs.best_estimator_.score(X_test_rb, y_test))  # 결정계수\n",
        "y_pred = rs.best_estimator_.predict(X_test_rb)\n",
        "print(np.sqrt(mean_squared_error(y_test, y_pred)))  # rmse"
      ],
      "execution_count": 57,
      "outputs": [
        {
          "output_type": "stream",
          "text": [
            "0.5221515356857137\n",
            "0.7913134131784112\n"
          ],
          "name": "stdout"
        }
      ]
    },
    {
      "cell_type": "code",
      "metadata": {
        "colab": {
          "base_uri": "https://localhost:8080/"
        },
        "id": "gV6I4kQmKvS5",
        "outputId": "e92204b4-96b3-4913-d731-db877502b9e5"
      },
      "source": [
        "print(mean_squared_error(y_test, y_pred))"
      ],
      "execution_count": 58,
      "outputs": [
        {
          "output_type": "stream",
          "text": [
            "0.6261769178760669\n"
          ],
          "name": "stdout"
        }
      ]
    },
    {
      "cell_type": "markdown",
      "metadata": {
        "id": "PAV3_alLLdo0"
      },
      "source": [
        "### candidate 2. Kernel SVR"
      ]
    },
    {
      "cell_type": "code",
      "metadata": {
        "colab": {
          "base_uri": "https://localhost:8080/"
        },
        "id": "uNcEk-x_GVYd",
        "outputId": "4cdc350b-cf09-45a2-f0a8-6a831adafc38"
      },
      "source": [
        "from sklearn.svm import SVR\n",
        "\n",
        "# model init\n",
        "ksvr = SVR(max_iter = 10000)\n",
        "\n",
        "# hyper parameter grid & grid searcher define\n",
        "ksvr_grid = {'C' : list(np.logspace(-3, 3, 30)),\n",
        "             'gamma' : list(np.logspace(-3, 3, 30)),\n",
        "             'epsilon' : [0.005, 0.001, 0.0005, 0.0001, 0.0]}\n",
        "\n",
        "ksvr_rs = RandomizedSearchCV(ksvr, ksvr_grid, scoring = \"neg_root_mean_squared_error\",\n",
        "                             n_iter = 60, random_state = 0, cv = 3, n_jobs = -1)\n",
        "\n",
        "\n",
        "ksvr_rs.fit(X_train_rb[:3000], y_train[:3000])\n",
        "\n",
        "print('best model             :',ksvr_rs.best_estimator_,'\\n')\n",
        "print('best test subset score :',ksvr_rs.best_score_)\n",
        "\n",
        "ksvr_rs.best_estimator_.fit(X_train_rb, y_train)\n",
        "print(ksvr_rs.best_estimator_.score(X_test_rb, y_test))  # 결정계수\n",
        "y_pred = ksvr_rs.best_estimator_.predict(X_test_rb)\n",
        "print(mean_squared_error(y_test, y_pred))           # mse\n",
        "print(np.sqrt(mean_squared_error(y_test, y_pred)))  # rmse"
      ],
      "execution_count": 61,
      "outputs": [
        {
          "output_type": "stream",
          "text": [
            "/usr/local/lib/python3.7/dist-packages/sklearn/svm/_base.py:231: ConvergenceWarning: Solver terminated early (max_iter=10000).  Consider pre-processing your data with StandardScaler or MinMaxScaler.\n",
            "  % self.max_iter, ConvergenceWarning)\n"
          ],
          "name": "stderr"
        },
        {
          "output_type": "stream",
          "text": [
            "best model             : SVR(C=3.2903445623126677, cache_size=200, coef0=0.0, degree=3, epsilon=0.005,\n",
            "    gamma=0.11721022975334805, kernel='rbf', max_iter=10000, shrinking=True,\n",
            "    tol=0.001, verbose=False) \n",
            "\n",
            "best test subset score : -0.6146204134525454\n"
          ],
          "name": "stdout"
        },
        {
          "output_type": "stream",
          "text": [
            "/usr/local/lib/python3.7/dist-packages/sklearn/svm/_base.py:231: ConvergenceWarning: Solver terminated early (max_iter=10000).  Consider pre-processing your data with StandardScaler or MinMaxScaler.\n",
            "  % self.max_iter, ConvergenceWarning)\n"
          ],
          "name": "stderr"
        },
        {
          "output_type": "stream",
          "text": [
            "0.7332173655452494\n",
            "0.34959435942826506\n",
            "0.5912650500649138\n"
          ],
          "name": "stdout"
        }
      ]
    },
    {
      "cell_type": "markdown",
      "metadata": {
        "id": "s7l69m5zLO0z"
      },
      "source": [
        "### candidate 3. DNN"
      ]
    },
    {
      "cell_type": "code",
      "metadata": {
        "id": "gmsIZh6TLp2N"
      },
      "source": [
        "from tensorflow.keras.layers import InputLayer\n",
        "from tensorflow.keras import regularizers"
      ],
      "execution_count": 66,
      "outputs": []
    },
    {
      "cell_type": "code",
      "metadata": {
        "colab": {
          "base_uri": "https://localhost:8080/"
        },
        "id": "b6e2l01gO6nm",
        "outputId": "b0794e0b-e212-48c2-f6f6-724c7f2e3977"
      },
      "source": [
        "model = Sequential([\n",
        "                    InputLayer(input_shape = (8)),\n",
        "                    Dense(30, activation = \"tanh\"),\n",
        "                    Dense(20, activation = \"tanh\"),\n",
        "                    Dense(15, activation = \"tanh\"),\n",
        "                    Dense(10, activation = \"tanh\"),\n",
        "                    Dense(1)\n",
        "])\n",
        "\n",
        "model.compile(loss='mse', optimizer='adam')\n",
        "\n",
        "\n",
        "model.fit(X_train_rb, y_train,\n",
        "          epochs = epochs,\n",
        "          batch_size = batch_size,\n",
        "          verbose = 0,\n",
        "          validation_data = (X_test_rb, y_test))\n",
        "\n",
        "model.evaluate(X_test_rb, y_test)"
      ],
      "execution_count": 79,
      "outputs": [
        {
          "output_type": "stream",
          "text": [
            "129/129 [==============================] - 0s 2ms/step - loss: 0.3035\n"
          ],
          "name": "stdout"
        },
        {
          "output_type": "execute_result",
          "data": {
            "text/plain": [
              "0.3034811019897461"
            ]
          },
          "metadata": {
            "tags": []
          },
          "execution_count": 79
        }
      ]
    },
    {
      "cell_type": "code",
      "metadata": {
        "colab": {
          "base_uri": "https://localhost:8080/"
        },
        "id": "qUPDqVp1QO5H",
        "outputId": "8ccc61df-70fc-4d4a-e81f-c183adeb769e"
      },
      "source": [
        "model = Sequential([\n",
        "                    InputLayer(input_shape = (8)),\n",
        "                    Dense(30, activation = \"sigmoid\"),\n",
        "                    Dense(20, activation = \"sigmoid\"),\n",
        "                    Dense(15, activation = \"sigmoid\"),\n",
        "                    Dense(10, activation = \"sigmoid\"),\n",
        "                    Dense(1)\n",
        "])\n",
        "\n",
        "model.compile(loss='mse', optimizer='adam')\n",
        "\n",
        "\n",
        "model.fit(X_train_rb, y_train,\n",
        "          epochs = epochs,\n",
        "          batch_size = batch_size,\n",
        "          verbose = 0,\n",
        "          validation_data = (X_test_rb, y_test))\n",
        "\n",
        "model.evaluate(X_test_rb, y_test)"
      ],
      "execution_count": 81,
      "outputs": [
        {
          "output_type": "stream",
          "text": [
            "129/129 [==============================] - 0s 2ms/step - loss: 0.3570\n"
          ],
          "name": "stdout"
        },
        {
          "output_type": "execute_result",
          "data": {
            "text/plain": [
              "0.3569640815258026"
            ]
          },
          "metadata": {
            "tags": []
          },
          "execution_count": 81
        }
      ]
    },
    {
      "cell_type": "code",
      "metadata": {
        "colab": {
          "base_uri": "https://localhost:8080/"
        },
        "id": "tPHSMKaVPkmw",
        "outputId": "722158e4-28e4-4405-be93-ecb8277b8248"
      },
      "source": [
        "model = Sequential([\n",
        "                    InputLayer(input_shape = (8)),\n",
        "                    Dense(30, activation = \"relu\"),\n",
        "                    Dense(20, activation = \"relu\"),\n",
        "                    Dense(15, activation = \"relu\"),\n",
        "                    Dense(10, activation = \"relu\"),\n",
        "                    Dense(1)\n",
        "])\n",
        "\n",
        "model.compile(loss='mse', optimizer='adam')\n",
        "\n",
        "\n",
        "model.fit(X_train_rb, y_train,\n",
        "          epochs = epochs,\n",
        "          batch_size = batch_size,\n",
        "          verbose = 0,\n",
        "          validation_data = (X_test_rb, y_test))\n",
        "\n",
        "model.evaluate(X_test_rb, y_test)"
      ],
      "execution_count": 78,
      "outputs": [
        {
          "output_type": "stream",
          "text": [
            "129/129 [==============================] - 0s 2ms/step - loss: 0.3284\n"
          ],
          "name": "stdout"
        },
        {
          "output_type": "execute_result",
          "data": {
            "text/plain": [
              "0.3283582925796509"
            ]
          },
          "metadata": {
            "tags": []
          },
          "execution_count": 78
        }
      ]
    },
    {
      "cell_type": "code",
      "metadata": {
        "colab": {
          "base_uri": "https://localhost:8080/"
        },
        "id": "rQY4MJ9UQdoz",
        "outputId": "51ae0f3a-2e73-4e02-8312-50ef658bdf6b"
      },
      "source": [
        "model = Sequential([\n",
        "                    InputLayer(input_shape = (8)),\n",
        "                    Dense(30, activation = \"tanh\"),\n",
        "                    Dense(30, activation = \"tanh\"),\n",
        "                    Dense(30, activation = \"tanh\"),\n",
        "                    Dense(10, activation = \"tanh\"),\n",
        "                    Dense(1)\n",
        "])\n",
        "\n",
        "model.compile(loss='mse', optimizer='adam')\n",
        "\n",
        "\n",
        "model.fit(X_train_rb, y_train,\n",
        "          epochs = epochs,\n",
        "          batch_size = batch_size,\n",
        "          verbose = 0,\n",
        "          validation_data = (X_test_rb, y_test))\n",
        "\n",
        "model.evaluate(X_test_rb, y_test)"
      ],
      "execution_count": 86,
      "outputs": [
        {
          "output_type": "stream",
          "text": [
            "129/129 [==============================] - 0s 2ms/step - loss: 0.2944\n"
          ],
          "name": "stdout"
        },
        {
          "output_type": "execute_result",
          "data": {
            "text/plain": [
              "0.2944106459617615"
            ]
          },
          "metadata": {
            "tags": []
          },
          "execution_count": 86
        }
      ]
    }
  ]
}