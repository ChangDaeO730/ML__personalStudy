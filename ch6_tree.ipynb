{
  "nbformat": 4,
  "nbformat_minor": 0,
  "metadata": {
    "colab": {
      "name": "ch6_tree",
      "provenance": [],
      "collapsed_sections": [],
      "authorship_tag": "ABX9TyMKOerQwG1gCf74HTd8+4zR",
      "include_colab_link": true
    },
    "kernelspec": {
      "name": "python3",
      "display_name": "Python 3"
    },
    "language_info": {
      "name": "python"
    }
  },
  "cells": [
    {
      "cell_type": "markdown",
      "metadata": {
        "id": "view-in-github",
        "colab_type": "text"
      },
      "source": [
        "<a href=\"https://colab.research.google.com/github/changdaeoh/HandsOn_ML/blob/main/ch6_tree.ipynb\" target=\"_parent\"><img src=\"https://colab.research.google.com/assets/colab-badge.svg\" alt=\"Open In Colab\"/></a>"
      ]
    },
    {
      "cell_type": "markdown",
      "metadata": {
        "id": "iuMy8fDD39ph"
      },
      "source": [
        "# 1. Decision Tree\n",
        "* 각 분할은 CART 목적함수를 최적화하는방향으로 이루어짐\n",
        "* 데이터 샘플 하나하나에 민감. robust하지않음.\n",
        "* 데이터회전에 민감 -> pca나 데이터 변환이 도움이 될 수 있음."
      ]
    },
    {
      "cell_type": "markdown",
      "metadata": {
        "id": "KRHwZEVbJYXc"
      },
      "source": [
        "### Decision Tree Classifier\n",
        "* 특성공간을 연쇄적으로 분할, 분할된 공간의 label을 기억\n",
        "* 각 sub space는 하나의 노드에 대응됨\n",
        "* 관측의 특성값이 input되면, 그 특성값이 속하는 분할공간의 label로 prediction"
      ]
    },
    {
      "cell_type": "code",
      "metadata": {
        "colab": {
          "base_uri": "https://localhost:8080/"
        },
        "id": "HZfv1QpXD-fr",
        "outputId": "01e1535d-93e4-4295-b22c-3ac826e232e7"
      },
      "source": [
        "from sklearn.datasets import load_iris\n",
        "from sklearn.tree import DecisionTreeClassifier\n",
        "\n",
        "iris = load_iris()\n",
        "X = iris.data[:, 2:] # 꽃잎 길이, 너비\n",
        "y = iris.target\n",
        "\n",
        "tree_clf = DecisionTreeClassifier(max_depth = 2)\n",
        "tree_clf.fit(X, y)\n",
        "\n",
        "print(tree_clf.predict_proba([[5, 1.5], [6, 1.5]]))\n",
        "print(tree_clf.predict([[5, 1.5], [6, 1.5]]))"
      ],
      "execution_count": 2,
      "outputs": [
        {
          "output_type": "stream",
          "text": [
            "[[0.         0.90740741 0.09259259]\n",
            " [0.         0.90740741 0.09259259]]\n",
            "[1 1]\n"
          ],
          "name": "stdout"
        }
      ]
    },
    {
      "cell_type": "markdown",
      "metadata": {
        "id": "Ts35AwWo3kZb"
      },
      "source": [
        "### Decision Tree Regressor\n",
        "* 특성공간을 연쇄적으로 분할, 분할된 공간의 target 평균값 기억\n",
        "* 각 sub space는 하나의 노드에 대응됨\n",
        "* 관측의 특성값이 input되면, 그 특성값이 속하는 분할공간에 속하는 모든 샘플들의 target값 평균으로 예측"
      ]
    },
    {
      "cell_type": "code",
      "metadata": {
        "id": "TIUkG8S0Joph"
      },
      "source": [
        "from sklearn.tree import DecisionTreeRegressor"
      ],
      "execution_count": null,
      "outputs": []
    },
    {
      "cell_type": "markdown",
      "metadata": {
        "id": "bul-fl5n45vZ"
      },
      "source": [
        "## Excersize 1. Post Pruning Method\n",
        " * Minimal Cost-Complexity Pruning"
      ]
    },
    {
      "cell_type": "code",
      "metadata": {
        "id": "7EarRCvY7Ns7"
      },
      "source": [
        "import matplotlib.pyplot as plt\n",
        "from sklearn.model_selection import train_test_split\n",
        "from sklearn.datasets import load_breast_cancer\n",
        "\n",
        "# feature : 30, binary label\n",
        "X, y = load_breast_cancer(return_X_y=True)\n",
        "X_train, X_test, y_train, y_test = train_test_split(X, y, random_state=0)\n",
        "\n",
        "clf = DecisionTreeClassifier(random_state=0)\n",
        "path = clf.cost_complexity_pruning_path(X_train, y_train)\n",
        "ccp_alphas, impurities = path.ccp_alphas, path.impurities"
      ],
      "execution_count": 3,
      "outputs": []
    },
    {
      "cell_type": "code",
      "metadata": {
        "colab": {
          "base_uri": "https://localhost:8080/",
          "height": 458
        },
        "id": "oycXp43m8L5m",
        "outputId": "000085e8-a50f-477c-ecca-c67b6b589c83"
      },
      "source": [
        "# Impurity vs Model complexity trade off\n",
        "fig = plt.figure(figsize=(8,7))\n",
        "plt.plot(ccp_alphas[:-1], impurities[:-1], marker='o', drawstyle=\"steps-post\")\n",
        "plt.xlabel(\"effective alpha\")\n",
        "plt.ylabel(\"total impurity of leaves\")\n",
        "plt.title(\"Total Impurity vs effective alpha for training set\")\n",
        "plt.show()"
      ],
      "execution_count": 9,
      "outputs": [
        {
          "output_type": "display_data",
          "data": {
            "image/png": "[encoded data removed]",
            "text/plain": [
              "<Figure size 576x504 with 1 Axes>"
            ]
          },
          "metadata": {
            "tags": [],
            "needs_background": "light"
          }
        }
      ]
    },
    {
      "cell_type": "code",
      "metadata": {
        "colab": {
          "base_uri": "https://localhost:8080/"
        },
        "id": "B9EujIRs8ebR",
        "outputId": "65ce71b2-eaf5-49e7-f425-c969c9c0e9b5"
      },
      "source": [
        "# 각 ccp alpha값에 대해 training\n",
        "clfs = []\n",
        "for ccp_alpha in ccp_alphas:\n",
        "    clf = DecisionTreeClassifier(random_state=0, ccp_alpha=ccp_alpha)\n",
        "    clf.fit(X_train, y_train)\n",
        "    clfs.append(clf)\n",
        "print(\"마지막 트리의 노드 수 : {}, 대응되는 alpha : {}\".format(clfs[-1].tree_.node_count, ccp_alphas[-1]))"
      ],
      "execution_count": 11,
      "outputs": [
        {
          "output_type": "stream",
          "text": [
            "마지막 트리의 노드 수 : 1, 대응되는 alpha : 0.3272984419327777\n"
          ],
          "name": "stdout"
        }
      ]
    },
    {
      "cell_type": "code",
      "metadata": {
        "colab": {
          "base_uri": "https://localhost:8080/",
          "height": 585
        },
        "id": "0KlMOF619og3",
        "outputId": "5cef7508-1b2f-4ac2-e599-9cbc77088b8d"
      },
      "source": [
        "clfs = clfs[:-1]\n",
        "ccp_alphas = ccp_alphas[:-1]\n",
        "\n",
        "node_counts = [clf.tree_.node_count for clf in clfs]\n",
        "depth = [clf.tree_.max_depth for clf in clfs]\n",
        "fig, ax = plt.subplots(2, 1, figsize = (8, 8))\n",
        "ax[0].plot(ccp_alphas, node_counts, marker='o', drawstyle=\"steps-post\")\n",
        "ax[0].set_xlabel(\"alpha\")\n",
        "ax[0].set_ylabel(\"number of nodes\")\n",
        "ax[0].set_title(\"Number of nodes vs alpha\")\n",
        "ax[1].plot(ccp_alphas, depth, marker='o', drawstyle=\"steps-post\")\n",
        "ax[1].set_xlabel(\"alpha\")\n",
        "ax[1].set_ylabel(\"depth of tree\")\n",
        "ax[1].set_title(\"Depth vs alpha\")\n",
        "fig.tight_layout()"
      ],
      "execution_count": 14,
      "outputs": [
        {
          "output_type": "display_data",
          "data": {
            "image/png": "[encoded data removed]",
            "text/plain": [
              "<Figure size 576x576 with 2 Axes>"
            ]
          },
          "metadata": {
            "tags": [],
            "needs_background": "light"
          }
        }
      ]
    },
    {
      "cell_type": "markdown",
      "metadata": {
        "id": "qpiz0nmW96i6"
      },
      "source": [
        "### Accuracy vs Alpha trade off"
      ]
    },
    {
      "cell_type": "code",
      "metadata": {
        "colab": {
          "base_uri": "https://localhost:8080/",
          "height": 458
        },
        "id": "oDBliQSD-L3l",
        "outputId": "f4c4668b-e730-481c-8cc3-3fcc1619ecbe"
      },
      "source": [
        "train_scores = [clf.score(X_train, y_train) for clf in clfs]\n",
        "test_scores = [clf.score(X_test, y_test) for clf in clfs]\n",
        "\n",
        "fig, ax = plt.subplots(figsize = (7, 7))\n",
        "ax.set_xlabel(\"alpha\")\n",
        "ax.set_ylabel(\"accuracy\")\n",
        "ax.set_title(\"Accuracy vs alpha for training and testing sets\")\n",
        "ax.plot(ccp_alphas, train_scores, marker='o', label=\"train\",\n",
        "        drawstyle=\"steps-post\")\n",
        "ax.plot(ccp_alphas, test_scores, marker='o', label=\"test\",\n",
        "        drawstyle=\"steps-post\")\n",
        "ax.legend()\n",
        "plt.show()"
      ],
      "execution_count": 15,
      "outputs": [
        {
          "output_type": "display_data",
          "data": {
            "image/png": "[encoded data removed]",
            "text/plain": [
              "<Figure size 504x504 with 1 Axes>"
            ]
          },
          "metadata": {
            "tags": [],
            "needs_background": "light"
          }
        }
      ]
    },
    {
      "cell_type": "markdown",
      "metadata": {
        "id": "FZFOo47u-jt3"
      },
      "source": [
        "## Excersize 2. Ensemble - voting"
      ]
    },
    {
      "cell_type": "markdown",
      "metadata": {
        "id": "63dIzcwXOAjz"
      },
      "source": [
        "### 1. data load & hyperparameter searching"
      ]
    },
    {
      "cell_type": "code",
      "metadata": {
        "colab": {
          "base_uri": "https://localhost:8080/"
        },
        "id": "p6ljH0my-42f",
        "outputId": "5c76c5a3-0d67-400b-ba1c-8b8c8e8ee097"
      },
      "source": [
        "from sklearn.datasets import make_moons\n",
        "from sklearn.model_selection import train_test_split\n",
        "from sklearn.model_selection import GridSearchCV\n",
        "from sklearn.model_selection import ShuffleSplit\n",
        "\n",
        "\n",
        "X, y = make_moons(n_samples=10000, noise=0.4, random_state=42)\n",
        "X_train, X_test, y_train, y_test = train_test_split(X, y, test_size=0.2, random_state=42)\n",
        "\n",
        "\n",
        "params = {'max_leaf_nodes': list(range(4, 80)), 'min_samples_split': [2, 3, 4, 5]}\n",
        "grid_search_cv = GridSearchCV(DecisionTreeClassifier(random_state=42), \n",
        "                              params, verbose=0, cv=3)\n",
        "\n",
        "grid_search_cv.fit(X_train, y_train)\n",
        "print(grid_search_cv.best_estimator_)"
      ],
      "execution_count": 17,
      "outputs": [
        {
          "output_type": "stream",
          "text": [
            "DecisionTreeClassifier(ccp_alpha=0.0, class_weight=None, criterion='gini',\n",
            "                       max_depth=None, max_features=None, max_leaf_nodes=17,\n",
            "                       min_impurity_decrease=0.0, min_impurity_split=None,\n",
            "                       min_samples_leaf=1, min_samples_split=2,\n",
            "                       min_weight_fraction_leaf=0.0, presort='deprecated',\n",
            "                       random_state=42, splitter='best')\n"
          ],
          "name": "stdout"
        }
      ]
    },
    {
      "cell_type": "markdown",
      "metadata": {
        "id": "50PDj21NPKKi"
      },
      "source": [
        "### 2. subset for each tree"
      ]
    },
    {
      "cell_type": "code",
      "metadata": {
        "id": "yZkCnXSpOUMz"
      },
      "source": [
        "n_trees = 1000\n",
        "n_instances = 100\n",
        "\n",
        "mini_sets = []\n",
        "\n",
        "# 트리 수만큼의 fold를 생성 (각 트리를 서로다른 fold로 학습시킬 것임)\n",
        "# 각 fold별 훈련/테스트 관측비율 -> train : 100, valid : 7900\n",
        "rs = ShuffleSplit(n_splits = n_trees, test_size = len(X_train) - n_instances, random_state=42)\n",
        "for mini_train_index, mini_test_index in rs.split(X_train):\n",
        "    X_mini_train = X_train[mini_train_index]\n",
        "    y_mini_train = y_train[mini_train_index]\n",
        "    mini_sets.append((X_mini_train, y_mini_train))"
      ],
      "execution_count": 18,
      "outputs": []
    },
    {
      "cell_type": "code",
      "metadata": {
        "colab": {
          "base_uri": "https://localhost:8080/"
        },
        "id": "uZhpQ_MIN_qP",
        "outputId": "e35131d9-b03c-4899-e570-f6a486b046dd"
      },
      "source": [
        "from sklearn.base import clone\n",
        "from sklearn.metrics import accuracy_score\n",
        "import numpy as np\n",
        "\n",
        "# 최고파라미터세팅의 모델을 지정 수만큼 생성\n",
        "forest = [ clone(grid_search_cv.best_estimator_) for _ in range(n_trees) ]\n",
        "\n",
        "accuracy_scores = []\n",
        "\n",
        "# 개별 tree와 서로다른 훈련 subset을 묶어서 iteration\n",
        "for tree, (X_mini_train, y_mini_train) in zip(forest, mini_sets):\n",
        "    tree.fit(X_mini_train, y_mini_train)\n",
        "    \n",
        "    y_pred = tree.predict(X_test)\n",
        "    accuracy_scores.append(accuracy_score(y_test, y_pred))\n",
        "\n",
        "print(\"개별 트리의 평균 정확도 : \",np.mean(accuracy_scores))"
      ],
      "execution_count": 23,
      "outputs": [
        {
          "output_type": "stream",
          "text": [
            "개별 트리의 평균 정확도 :  0.8054499999999999\n"
          ],
          "name": "stdout"
        }
      ]
    },
    {
      "cell_type": "markdown",
      "metadata": {
        "id": "NA7EaBhVQkcD"
      },
      "source": [
        "### 3. prediction ensemble"
      ]
    },
    {
      "cell_type": "code",
      "metadata": {
        "colab": {
          "base_uri": "https://localhost:8080/"
        },
        "id": "dumjKhf9QJkI",
        "outputId": "08a3faae-d55e-4517-d312-2b941e444852"
      },
      "source": [
        "from scipy.stats import mode\n",
        "\n",
        "# (1000, 2000)\n",
        "Y_pred = np.empty([n_trees, len(X_test)], dtype=np.uint8)\n",
        "\n",
        "for tree_index, tree in enumerate(forest):\n",
        "    Y_pred[tree_index] = tree.predict(X_test)\n",
        "\n",
        "# 지정 축에 대해 최빈값 반환 \n",
        "y_pred_majority_votes, n_votes = mode(Y_pred, axis=0)\n",
        "\n",
        "# 앙상블 정확도\n",
        "print(accuracy_score(y_test, y_pred_majority_votes.reshape(-1)))\n",
        "\n",
        "# reshape(-1) : array를 1d vector로"
      ],
      "execution_count": 34,
      "outputs": [
        {
          "output_type": "stream",
          "text": [
            "0.872\n"
          ],
          "name": "stdout"
        }
      ]
    }
  ]
}